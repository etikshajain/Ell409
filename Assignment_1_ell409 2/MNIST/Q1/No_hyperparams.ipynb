{
 "cells": [
  {
   "cell_type": "code",
   "execution_count": 1,
   "metadata": {},
   "outputs": [
    {
     "data": {
      "text/plain": [
       "'3.11.5 (v3.11.5:cce6ba91b3, Aug 24 2023, 10:50:31) [Clang 13.0.0 (clang-1300.0.29.30)]'"
      ]
     },
     "execution_count": 1,
     "metadata": {},
     "output_type": "execute_result"
    }
   ],
   "source": [
    "import sys\n",
    "sys.version"
   ]
  },
  {
   "cell_type": "code",
   "execution_count": 2,
   "metadata": {},
   "outputs": [
    {
     "name": "stdout",
     "output_type": "stream",
     "text": [
      "Requirement already satisfied: torch in /Library/Frameworks/Python.framework/Versions/3.11/lib/python3.11/site-packages (2.0.1)\n",
      "Requirement already satisfied: filelock in /Library/Frameworks/Python.framework/Versions/3.11/lib/python3.11/site-packages (from torch) (3.12.4)\n",
      "Requirement already satisfied: typing-extensions in /Library/Frameworks/Python.framework/Versions/3.11/lib/python3.11/site-packages (from torch) (4.5.0)\n",
      "Requirement already satisfied: sympy in /Library/Frameworks/Python.framework/Versions/3.11/lib/python3.11/site-packages (from torch) (1.12)\n",
      "Requirement already satisfied: networkx in /Library/Frameworks/Python.framework/Versions/3.11/lib/python3.11/site-packages (from torch) (3.1)\n",
      "Requirement already satisfied: jinja2 in /Library/Frameworks/Python.framework/Versions/3.11/lib/python3.11/site-packages (from torch) (3.1.2)\n",
      "Requirement already satisfied: MarkupSafe>=2.0 in /Library/Frameworks/Python.framework/Versions/3.11/lib/python3.11/site-packages (from jinja2->torch) (2.1.3)\n",
      "Requirement already satisfied: mpmath>=0.19 in /Library/Frameworks/Python.framework/Versions/3.11/lib/python3.11/site-packages (from sympy->torch) (1.3.0)\n",
      "Requirement already satisfied: torchvision in /Library/Frameworks/Python.framework/Versions/3.11/lib/python3.11/site-packages (0.15.2)\n",
      "Requirement already satisfied: numpy in /Library/Frameworks/Python.framework/Versions/3.11/lib/python3.11/site-packages (from torchvision) (1.24.3)\n",
      "Requirement already satisfied: requests in /Library/Frameworks/Python.framework/Versions/3.11/lib/python3.11/site-packages (from torchvision) (2.31.0)\n",
      "Requirement already satisfied: torch==2.0.1 in /Library/Frameworks/Python.framework/Versions/3.11/lib/python3.11/site-packages (from torchvision) (2.0.1)\n",
      "Requirement already satisfied: pillow!=8.3.*,>=5.3.0 in /Library/Frameworks/Python.framework/Versions/3.11/lib/python3.11/site-packages (from torchvision) (10.0.1)\n",
      "Requirement already satisfied: filelock in /Library/Frameworks/Python.framework/Versions/3.11/lib/python3.11/site-packages (from torch==2.0.1->torchvision) (3.12.4)\n",
      "Requirement already satisfied: typing-extensions in /Library/Frameworks/Python.framework/Versions/3.11/lib/python3.11/site-packages (from torch==2.0.1->torchvision) (4.5.0)\n",
      "Requirement already satisfied: sympy in /Library/Frameworks/Python.framework/Versions/3.11/lib/python3.11/site-packages (from torch==2.0.1->torchvision) (1.12)\n",
      "Requirement already satisfied: networkx in /Library/Frameworks/Python.framework/Versions/3.11/lib/python3.11/site-packages (from torch==2.0.1->torchvision) (3.1)\n",
      "Requirement already satisfied: jinja2 in /Library/Frameworks/Python.framework/Versions/3.11/lib/python3.11/site-packages (from torch==2.0.1->torchvision) (3.1.2)\n",
      "Requirement already satisfied: charset-normalizer<4,>=2 in /Library/Frameworks/Python.framework/Versions/3.11/lib/python3.11/site-packages (from requests->torchvision) (3.2.0)\n",
      "Requirement already satisfied: idna<4,>=2.5 in /Library/Frameworks/Python.framework/Versions/3.11/lib/python3.11/site-packages (from requests->torchvision) (3.4)\n",
      "Requirement already satisfied: urllib3<3,>=1.21.1 in /Library/Frameworks/Python.framework/Versions/3.11/lib/python3.11/site-packages (from requests->torchvision) (1.26.16)\n",
      "Requirement already satisfied: certifi>=2017.4.17 in /Library/Frameworks/Python.framework/Versions/3.11/lib/python3.11/site-packages (from requests->torchvision) (2023.7.22)\n",
      "Requirement already satisfied: MarkupSafe>=2.0 in /Library/Frameworks/Python.framework/Versions/3.11/lib/python3.11/site-packages (from jinja2->torch==2.0.1->torchvision) (2.1.3)\n",
      "Requirement already satisfied: mpmath>=0.19 in /Library/Frameworks/Python.framework/Versions/3.11/lib/python3.11/site-packages (from sympy->torch==2.0.1->torchvision) (1.3.0)\n",
      "Requirement already satisfied: matplotlib in /Library/Frameworks/Python.framework/Versions/3.11/lib/python3.11/site-packages (3.8.0)\n",
      "Requirement already satisfied: contourpy>=1.0.1 in /Library/Frameworks/Python.framework/Versions/3.11/lib/python3.11/site-packages (from matplotlib) (1.1.1)\n",
      "Requirement already satisfied: cycler>=0.10 in /Library/Frameworks/Python.framework/Versions/3.11/lib/python3.11/site-packages (from matplotlib) (0.11.0)\n",
      "Requirement already satisfied: fonttools>=4.22.0 in /Library/Frameworks/Python.framework/Versions/3.11/lib/python3.11/site-packages (from matplotlib) (4.42.1)\n",
      "Requirement already satisfied: kiwisolver>=1.0.1 in /Library/Frameworks/Python.framework/Versions/3.11/lib/python3.11/site-packages (from matplotlib) (1.4.5)\n",
      "Requirement already satisfied: numpy<2,>=1.21 in /Library/Frameworks/Python.framework/Versions/3.11/lib/python3.11/site-packages (from matplotlib) (1.24.3)\n",
      "Requirement already satisfied: packaging>=20.0 in /Library/Frameworks/Python.framework/Versions/3.11/lib/python3.11/site-packages (from matplotlib) (23.1)\n",
      "Requirement already satisfied: pillow>=6.2.0 in /Library/Frameworks/Python.framework/Versions/3.11/lib/python3.11/site-packages (from matplotlib) (10.0.1)\n",
      "Requirement already satisfied: pyparsing>=2.3.1 in /Library/Frameworks/Python.framework/Versions/3.11/lib/python3.11/site-packages (from matplotlib) (3.1.1)\n",
      "Requirement already satisfied: python-dateutil>=2.7 in /Library/Frameworks/Python.framework/Versions/3.11/lib/python3.11/site-packages (from matplotlib) (2.8.2)\n",
      "Requirement already satisfied: six>=1.5 in /Library/Frameworks/Python.framework/Versions/3.11/lib/python3.11/site-packages (from python-dateutil>=2.7->matplotlib) (1.16.0)\n"
     ]
    }
   ],
   "source": [
    "!pip3 install torch\n",
    "!pip3 install torchvision\n",
    "!pip3 install matplotlib"
   ]
  },
  {
   "cell_type": "code",
   "execution_count": 3,
   "metadata": {
    "executionInfo": {
     "elapsed": 5003,
     "status": "ok",
     "timestamp": 1695158165379,
     "user": {
      "displayName": "Etiksha Jain",
      "userId": "14034236754514632156"
     },
     "user_tz": -330
    },
    "id": "_btPg74EYNTh"
   },
   "outputs": [],
   "source": [
    "import torch as t\n",
    "import torchvision.datasets as datasets\n",
    "import torchvision.transforms as transforms\n",
    "import torch.nn as nn\n",
    "import matplotlib.pyplot as plt\n",
    "import torch.optim as optim\n",
    "import torch.optim.lr_scheduler as lr_scheduler\n",
    "from torch.optim.lr_scheduler import ReduceLROnPlateau"
   ]
  },
  {
   "cell_type": "markdown",
   "metadata": {
    "id": "ri-Fm4O4VnDc"
   },
   "source": [
    "### Model"
   ]
  },
  {
   "cell_type": "code",
   "execution_count": 4,
   "metadata": {
    "executionInfo": {
     "elapsed": 1,
     "status": "ok",
     "timestamp": 1695160365928,
     "user": {
      "displayName": "Etiksha Jain",
      "userId": "14034236754514632156"
     },
     "user_tz": -330
    },
    "id": "QcHzUTVnegru"
   },
   "outputs": [],
   "source": [
    "class Net(nn.Module):\n",
    "    def __init__(self):\n",
    "        super(Net,self).__init__()\n",
    "        self.linear1 = nn.Linear(28*28, 10)\n",
    "        self.relu = nn.ReLU()\n",
    "\n",
    "    def forward(self, img): #convert + flatten\n",
    "        x = img.view(-1, 28*28)\n",
    "        x = self.relu(self.linear1(x))\n",
    "        return x\n",
    "net = Net()"
   ]
  },
  {
   "cell_type": "markdown",
   "metadata": {
    "id": "OQXUMoe0VpVz"
   },
   "source": [
    "\n",
    "\n",
    "### Hyperparams"
   ]
  },
  {
   "cell_type": "code",
   "execution_count": 5,
   "metadata": {
    "executionInfo": {
     "elapsed": 2,
     "status": "ok",
     "timestamp": 1695160366558,
     "user": {
      "displayName": "Etiksha Jain",
      "userId": "14034236754514632156"
     },
     "user_tz": -330
    },
    "id": "SkaJoTYgamtY"
   },
   "outputs": [],
   "source": [
    "batch_size=128\n",
    "num_epochs=100\n",
    "num_batches=100\n",
    "loss_fn = nn.CrossEntropyLoss()\n",
    "opti = 'SGD'\n",
    "LR = 0.01\n",
    "optimizer = t.optim.SGD(net.parameters(), lr=LR)"
   ]
  },
  {
   "cell_type": "code",
   "execution_count": 6,
   "metadata": {},
   "outputs": [],
   "source": [
    "import ssl\n",
    "ssl._create_default_https_context = ssl._create_unverified_context"
   ]
  },
  {
   "cell_type": "code",
   "execution_count": 9,
   "metadata": {
    "colab": {
     "base_uri": "https://localhost:8080/"
    },
    "executionInfo": {
     "elapsed": 1272,
     "status": "ok",
     "timestamp": 1695160367828,
     "user": {
      "displayName": "Etiksha Jain",
      "userId": "14034236754514632156"
     },
     "user_tz": -330
    },
    "id": "GJXtKqjIYUxl",
    "outputId": "96770095-2dfe-44ed-c6a9-17e7f2cdfcb6"
   },
   "outputs": [],
   "source": [
    "transform = transforms.Compose([transforms.ToTensor(), transforms.Normalize((0.5,), (0.5,)),])\n",
    "\n",
    "mnist_trainset = datasets.MNIST(root='./data', train=True, download=True, transform=transform)\n",
    "train_loader = t.utils.data.DataLoader(mnist_trainset, batch_size=batch_size, shuffle=True)\n",
    "\n",
    "mnist_testset = datasets.MNIST(root='./data', train=False, download=True, transform=transform)\n",
    "test_loader = t.utils.data.DataLoader(mnist_testset, batch_size=batch_size, shuffle=True)"
   ]
  },
  {
   "cell_type": "code",
   "execution_count": 10,
   "metadata": {
    "colab": {
     "base_uri": "https://localhost:8080/"
    },
    "executionInfo": {
     "elapsed": 4,
     "status": "ok",
     "timestamp": 1695160367828,
     "user": {
      "displayName": "Etiksha Jain",
      "userId": "14034236754514632156"
     },
     "user_tz": -330
    },
    "id": "AEJ5qfPWUI1i",
    "outputId": "30d86670-a0df-44bb-8937-569378c8c988"
   },
   "outputs": [
    {
     "data": {
      "text/plain": [
       "torch.Size([1, 28, 28])"
      ]
     },
     "execution_count": 10,
     "metadata": {},
     "output_type": "execute_result"
    }
   ],
   "source": [
    "train_loader.dataset[0][0].shape"
   ]
  },
  {
   "cell_type": "markdown",
   "metadata": {
    "id": "ONzNfpu3VrPs"
   },
   "source": [
    "### Training"
   ]
  },
  {
   "cell_type": "code",
   "execution_count": 11,
   "metadata": {
    "executionInfo": {
     "elapsed": 3,
     "status": "ok",
     "timestamp": 1695160367828,
     "user": {
      "displayName": "Etiksha Jain",
      "userId": "14034236754514632156"
     },
     "user_tz": -330
    },
    "id": "xMN-3GHIX-AE"
   },
   "outputs": [],
   "source": [
    "def train_one_epoch(epoch_index):\n",
    "    running_loss = 0.\n",
    "    last_loss = 0.\n",
    "    c = 0\n",
    "\n",
    "    for i, data in enumerate(train_loader):\n",
    "        # Every data instance is an input + label pair\n",
    "        # data.shape=torch.Size([10, 3, 32, 32]) --> 10 images,labels\n",
    "        inputs, labels = data\n",
    "\n",
    "        # Zero your gradients for every batch!\n",
    "        optimizer.zero_grad()\n",
    "\n",
    "        # Make predictions for this batch\n",
    "        outputs = net(inputs.view(-1, 28*28))\n",
    "\n",
    "\n",
    "        # Compute the loss and its gradients\n",
    "        loss = loss_fn(outputs, labels)\n",
    "        loss.backward()\n",
    "\n",
    "        # Adjust learning weights\n",
    "        optimizer.step()\n",
    "\n",
    "        # Gather data and report\n",
    "        running_loss += loss.item()\n",
    "\n",
    "        if i % num_batches == num_batches-1:\n",
    "            last_loss = running_loss / num_batches # loss per num_batches batches\n",
    "            print(' batch {} loss: {}'.format(i + 1, last_loss))\n",
    "            running_loss = 0.\n",
    "\n",
    "    return last_loss"
   ]
  },
  {
   "cell_type": "markdown",
   "metadata": {
    "id": "pkhUdxuTVtQ2"
   },
   "source": [
    "### Evaluate"
   ]
  },
  {
   "cell_type": "code",
   "execution_count": 13,
   "metadata": {
    "executionInfo": {
     "elapsed": 3,
     "status": "ok",
     "timestamp": 1695160367828,
     "user": {
      "displayName": "Etiksha Jain",
      "userId": "14034236754514632156"
     },
     "user_tz": -330
    },
    "id": "PaZP0GgJo_7Y"
   },
   "outputs": [],
   "source": [
    "def test(model, loader):\n",
    "  total=0\n",
    "  correct=0\n",
    "  model.eval()\n",
    "  with t.no_grad():\n",
    "      for data in loader:\n",
    "          x, y = data\n",
    "          output = model(x.view(-1, 28*28))\n",
    "          for idx, i in enumerate(output):\n",
    "              if t.argmax(i) == y[idx]:\n",
    "                  correct +=1\n",
    "              total +=1\n",
    "  return round(correct/total, 3)*100"
   ]
  },
  {
   "cell_type": "code",
   "execution_count": 14,
   "metadata": {
    "colab": {
     "base_uri": "https://localhost:8080/"
    },
    "executionInfo": {
     "elapsed": 565154,
     "status": "ok",
     "timestamp": 1695160932980,
     "user": {
      "displayName": "Etiksha Jain",
      "userId": "14034236754514632156"
     },
     "user_tz": -330
    },
    "id": "t8CVnoAUbxN2",
    "outputId": "3a7901df-e97c-4099-b995-28a7f2fe09cf"
   },
   "outputs": [
    {
     "name": "stdout",
     "output_type": "stream",
     "text": [
      "EPOCH 1:\n",
      " batch 100 loss: 1.599555149078369\n",
      " batch 200 loss: 1.1707380348443985\n",
      " batch 300 loss: 1.059552041888237\n",
      " batch 400 loss: 0.993008348941803\n",
      "Train accuracy 71.39999999999999:\n",
      "Test accuracy 72.0:\n",
      "EPOCH 2:\n",
      " batch 100 loss: 0.9426202124357224\n",
      " batch 200 loss: 0.9235123813152313\n",
      " batch 300 loss: 0.8965732705593109\n",
      " batch 400 loss: 0.8772267711162567\n",
      "Train accuracy 72.39999999999999:\n",
      "Test accuracy 72.89999999999999:\n",
      "EPOCH 3:\n",
      " batch 100 loss: 0.8700804346799851\n",
      " batch 200 loss: 0.8606264847517013\n",
      " batch 300 loss: 0.8424062401056289\n",
      " batch 400 loss: 0.848087621331215\n",
      "Train accuracy 72.89999999999999:\n",
      "Test accuracy 73.3:\n",
      "EPOCH 4:\n",
      " batch 100 loss: 0.8321205896139144\n",
      " batch 200 loss: 0.8088659554719925\n",
      " batch 300 loss: 0.691077880859375\n",
      " batch 400 loss: 0.6510795357823372\n",
      "Train accuracy 81.10000000000001:\n",
      "Test accuracy 81.6:\n",
      "EPOCH 5:\n",
      " batch 100 loss: 0.63056112408638\n",
      " batch 200 loss: 0.6212520337104798\n",
      " batch 300 loss: 0.5956221804022789\n",
      " batch 400 loss: 0.6140210717916489\n",
      "Train accuracy 81.69999999999999:\n",
      "Test accuracy 82.1:\n",
      "EPOCH 6:\n",
      " batch 100 loss: 0.6002155846357345\n",
      " batch 200 loss: 0.587547664642334\n",
      " batch 300 loss: 0.5789015626907349\n",
      " batch 400 loss: 0.586652336716652\n",
      "Train accuracy 81.8:\n",
      "Test accuracy 82.3:\n",
      "EPOCH 7:\n",
      " batch 100 loss: 0.5843227586150169\n",
      " batch 200 loss: 0.5889288806915283\n",
      " batch 300 loss: 0.5683168137073517\n",
      " batch 400 loss: 0.5732103195786477\n",
      "Train accuracy 82.1:\n",
      "Test accuracy 82.6:\n",
      "EPOCH 8:\n",
      " batch 100 loss: 0.5605333992838859\n",
      " batch 200 loss: 0.5676560792326927\n",
      " batch 300 loss: 0.5587805145978928\n",
      " batch 400 loss: 0.5746937188506126\n",
      "Train accuracy 82.19999999999999:\n",
      "Test accuracy 82.69999999999999:\n",
      "EPOCH 9:\n",
      " batch 100 loss: 0.5667482769489288\n",
      " batch 200 loss: 0.553454804122448\n",
      " batch 300 loss: 0.5506979191303253\n",
      " batch 400 loss: 0.5624168080091476\n",
      "Train accuracy 82.3:\n",
      "Test accuracy 82.8:\n",
      "EPOCH 10:\n",
      " batch 100 loss: 0.5478401860594749\n",
      " batch 200 loss: 0.551857807636261\n",
      " batch 300 loss: 0.557683160007\n",
      " batch 400 loss: 0.5471498441696167\n",
      "Train accuracy 82.5:\n",
      "Test accuracy 82.89999999999999:\n",
      "EPOCH 11:\n",
      " batch 100 loss: 0.546230511367321\n",
      " batch 200 loss: 0.5343188488483429\n",
      " batch 300 loss: 0.558368263244629\n",
      " batch 400 loss: 0.5458179917931557\n",
      "Train accuracy 82.6:\n",
      "Test accuracy 83.0:\n",
      "EPOCH 12:\n",
      " batch 100 loss: 0.5412985554337502\n",
      " batch 200 loss: 0.5398388466238976\n",
      " batch 300 loss: 0.5317223957180977\n",
      " batch 400 loss: 0.5468171894550323\n",
      "Train accuracy 82.69999999999999:\n",
      "Test accuracy 82.89999999999999:\n",
      "EPOCH 13:\n",
      " batch 100 loss: 0.5371953305602074\n",
      " batch 200 loss: 0.5437510904669761\n",
      " batch 300 loss: 0.5315968453884125\n",
      " batch 400 loss: 0.5293054503202438\n",
      "Train accuracy 82.69999999999999:\n",
      "Test accuracy 83.0:\n",
      "EPOCH 14:\n",
      " batch 100 loss: 0.540508728325367\n",
      " batch 200 loss: 0.526182981133461\n",
      " batch 300 loss: 0.5260965451598167\n",
      " batch 400 loss: 0.54371341496706\n",
      "Train accuracy 82.69999999999999:\n",
      "Test accuracy 83.0:\n",
      "EPOCH 15:\n",
      " batch 100 loss: 0.5321397611498833\n",
      " batch 200 loss: 0.5294160830974579\n",
      " batch 300 loss: 0.5313689202070236\n",
      " batch 400 loss: 0.5309582099318504\n",
      "Train accuracy 82.89999999999999:\n",
      "Test accuracy 83.1:\n",
      "EPOCH 16:\n",
      " batch 100 loss: 0.5230525386333466\n",
      " batch 200 loss: 0.5296412020921707\n",
      " batch 300 loss: 0.5236040958762169\n",
      " batch 400 loss: 0.5303559112548828\n",
      "Train accuracy 82.89999999999999:\n",
      "Test accuracy 83.1:\n",
      "EPOCH 17:\n",
      " batch 100 loss: 0.5328318616747856\n",
      " batch 200 loss: 0.5285742738842965\n",
      " batch 300 loss: 0.520109589099884\n",
      " batch 400 loss: 0.5219801107048988\n",
      "Train accuracy 82.89999999999999:\n",
      "Test accuracy 83.1:\n",
      "EPOCH 18:\n",
      " batch 100 loss: 0.5243759459257126\n",
      " batch 200 loss: 0.5192239099740982\n",
      " batch 300 loss: 0.5196254733204841\n",
      " batch 400 loss: 0.5287325197458267\n",
      "Train accuracy 83.0:\n",
      "Test accuracy 83.1:\n",
      "EPOCH 19:\n",
      " batch 100 loss: 0.5278124150633812\n",
      " batch 200 loss: 0.5170057207345963\n",
      " batch 300 loss: 0.5214687153697014\n",
      " batch 400 loss: 0.5241494110226631\n",
      "Train accuracy 83.0:\n",
      "Test accuracy 83.1:\n",
      "EPOCH 20:\n",
      " batch 100 loss: 0.5179180532693863\n",
      " batch 200 loss: 0.5250772041082382\n",
      " batch 300 loss: 0.5189771312475204\n",
      " batch 400 loss: 0.5309177753329277\n",
      "Train accuracy 83.0:\n",
      "Test accuracy 83.1:\n",
      "EPOCH 21:\n",
      " batch 100 loss: 0.5032219794392586\n",
      " batch 200 loss: 0.5212496039271355\n",
      " batch 300 loss: 0.5237673851847648\n",
      " batch 400 loss: 0.5301450565457344\n",
      "Train accuracy 83.0:\n",
      "Test accuracy 83.2:\n",
      "EPOCH 22:\n",
      " batch 100 loss: 0.51412692040205\n",
      " batch 200 loss: 0.5199934804439544\n",
      " batch 300 loss: 0.520219797194004\n",
      " batch 400 loss: 0.5095092293620109\n",
      "Train accuracy 83.1:\n",
      "Test accuracy 83.3:\n",
      "EPOCH 23:\n",
      " batch 100 loss: 0.5208533132076263\n",
      " batch 200 loss: 0.5119370910525322\n",
      " batch 300 loss: 0.521400186419487\n",
      " batch 400 loss: 0.5192093726992607\n",
      "Train accuracy 83.2:\n",
      "Test accuracy 83.3:\n",
      "EPOCH 24:\n",
      " batch 100 loss: 0.5202530160546303\n",
      " batch 200 loss: 0.5025118771195412\n",
      " batch 300 loss: 0.5143966475129127\n",
      " batch 400 loss: 0.5065118438005447\n",
      "Train accuracy 83.2:\n",
      "Test accuracy 83.2:\n",
      "EPOCH 25:\n",
      " batch 100 loss: 0.506635132431984\n",
      " batch 200 loss: 0.5236360889673233\n",
      " batch 300 loss: 0.5210049664974212\n",
      " batch 400 loss: 0.4926381778717041\n",
      "Train accuracy 83.3:\n",
      "Test accuracy 83.3:\n",
      "EPOCH 26:\n",
      " batch 100 loss: 0.5206674867868424\n",
      " batch 200 loss: 0.5094972735643387\n",
      " batch 300 loss: 0.5002448308467865\n",
      " batch 400 loss: 0.5097982993721962\n",
      "Train accuracy 83.2:\n",
      "Test accuracy 83.3:\n",
      "EPOCH 27:\n",
      " batch 100 loss: 0.5074449008703232\n",
      " batch 200 loss: 0.5067104327678681\n",
      " batch 300 loss: 0.523802255988121\n",
      " batch 400 loss: 0.49415557086467743\n",
      "Train accuracy 83.3:\n",
      "Test accuracy 83.3:\n",
      "EPOCH 28:\n",
      " batch 100 loss: 0.5235730990767479\n",
      " batch 200 loss: 0.5006989404559136\n",
      " batch 300 loss: 0.5056140449643135\n",
      " batch 400 loss: 0.5029663255810738\n",
      "Train accuracy 83.2:\n",
      "Test accuracy 83.3:\n",
      "EPOCH 29:\n",
      " batch 100 loss: 0.49695984601974486\n",
      " batch 200 loss: 0.5107229474186897\n",
      " batch 300 loss: 0.5075873231887817\n",
      " batch 400 loss: 0.5077755445241928\n",
      "Train accuracy 83.39999999999999:\n",
      "Test accuracy 83.39999999999999:\n",
      "EPOCH 30:\n",
      " batch 100 loss: 0.4974583262205124\n",
      " batch 200 loss: 0.520593384206295\n",
      " batch 300 loss: 0.5052585300803184\n",
      " batch 400 loss: 0.5019115504622459\n",
      "Train accuracy 83.3:\n",
      "Test accuracy 83.3:\n",
      "EPOCH 31:\n",
      " batch 100 loss: 0.5096535354852676\n",
      " batch 200 loss: 0.5026382765173912\n",
      " batch 300 loss: 0.4968949934840202\n",
      " batch 400 loss: 0.5078290742635727\n",
      "Train accuracy 83.39999999999999:\n",
      "Test accuracy 83.39999999999999:\n",
      "EPOCH 32:\n",
      " batch 100 loss: 0.49780243933200835\n",
      " batch 200 loss: 0.5050428402423859\n",
      " batch 300 loss: 0.5045331871509552\n",
      " batch 400 loss: 0.5021768793463707\n",
      "Train accuracy 83.39999999999999:\n",
      "Test accuracy 83.39999999999999:\n",
      "EPOCH 33:\n",
      " batch 100 loss: 0.49435456961393354\n",
      " batch 200 loss: 0.5012870907783509\n",
      " batch 300 loss: 0.5123563700914383\n",
      " batch 400 loss: 0.49989075124263765\n",
      "Train accuracy 83.39999999999999:\n",
      "Test accuracy 83.5:\n",
      "EPOCH 34:\n",
      " batch 100 loss: 0.5014058083295823\n",
      " batch 200 loss: 0.502100003361702\n",
      " batch 300 loss: 0.5013138630986214\n",
      " batch 400 loss: 0.4951097977161407\n",
      "Train accuracy 83.5:\n",
      "Test accuracy 83.39999999999999:\n",
      "EPOCH 35:\n",
      " batch 100 loss: 0.49874823808670044\n",
      " batch 200 loss: 0.5002658268809319\n",
      " batch 300 loss: 0.5165430963039398\n",
      " batch 400 loss: 0.49985878229141234\n",
      "Train accuracy 83.39999999999999:\n",
      "Test accuracy 83.39999999999999:\n",
      "EPOCH 36:\n",
      " batch 100 loss: 0.4849974691867828\n",
      " batch 200 loss: 0.5037788742780686\n",
      " batch 300 loss: 0.5065525797009468\n",
      " batch 400 loss: 0.5080379956960678\n",
      "Train accuracy 83.5:\n",
      "Test accuracy 83.39999999999999:\n",
      "EPOCH 37:\n",
      " batch 100 loss: 0.5001390790939331\n",
      " batch 200 loss: 0.5118351352214813\n",
      " batch 300 loss: 0.49364796698093416\n",
      " batch 400 loss: 0.5029662793874741\n",
      "Train accuracy 83.6:\n",
      "Test accuracy 83.39999999999999:\n",
      "EPOCH 38:\n",
      " batch 100 loss: 0.4917078131437302\n",
      " batch 200 loss: 0.5038678795099258\n",
      " batch 300 loss: 0.49492803633213045\n",
      " batch 400 loss: 0.5038138392567635\n",
      "Train accuracy 83.5:\n",
      "Test accuracy 83.39999999999999:\n",
      "EPOCH 39:\n",
      " batch 100 loss: 0.4961356067657471\n",
      " batch 200 loss: 0.5013481441140175\n",
      " batch 300 loss: 0.5019200718402863\n",
      " batch 400 loss: 0.4999328929185867\n",
      "Train accuracy 83.6:\n",
      "Test accuracy 83.39999999999999:\n",
      "EPOCH 40:\n",
      " batch 100 loss: 0.49730319529771805\n",
      " batch 200 loss: 0.5022048118710518\n",
      " batch 300 loss: 0.4943343502283096\n",
      " batch 400 loss: 0.503987395465374\n",
      "Train accuracy 83.5:\n",
      "Test accuracy 83.5:\n",
      "EPOCH 41:\n",
      " batch 100 loss: 0.4971970988810062\n",
      " batch 200 loss: 0.4944770157337189\n",
      " batch 300 loss: 0.5076289802789689\n",
      " batch 400 loss: 0.49292016416788104\n",
      "Train accuracy 83.5:\n",
      "Test accuracy 83.39999999999999:\n",
      "EPOCH 42:\n",
      " batch 100 loss: 0.49333382308483126\n",
      " batch 200 loss: 0.4913381111621857\n",
      " batch 300 loss: 0.4922178414463997\n",
      " batch 400 loss: 0.4951192890107632\n",
      "Train accuracy 83.6:\n",
      "Test accuracy 83.5:\n",
      "EPOCH 43:\n",
      " batch 100 loss: 0.49631958693265915\n",
      " batch 200 loss: 0.49929396659135816\n",
      " batch 300 loss: 0.4879962134361267\n",
      " batch 400 loss: 0.49501479864120485\n",
      "Train accuracy 83.6:\n",
      "Test accuracy 83.5:\n",
      "EPOCH 44:\n",
      " batch 100 loss: 0.5042773905396462\n",
      " batch 200 loss: 0.4954118746519089\n",
      " batch 300 loss: 0.4897531059384346\n",
      " batch 400 loss: 0.49971017360687253\n",
      "Train accuracy 83.6:\n",
      "Test accuracy 83.5:\n",
      "EPOCH 45:\n",
      " batch 100 loss: 0.4985501039028168\n",
      " batch 200 loss: 0.4785611978173256\n",
      " batch 300 loss: 0.49910222858190534\n",
      " batch 400 loss: 0.5060049140453339\n",
      "Train accuracy 83.7:\n",
      "Test accuracy 83.5:\n",
      "EPOCH 46:\n",
      " batch 100 loss: 0.5044808414578438\n",
      " batch 200 loss: 0.4807141777873039\n",
      " batch 300 loss: 0.4870861813426018\n",
      " batch 400 loss: 0.49486775398254396\n",
      "Train accuracy 83.7:\n",
      "Test accuracy 83.39999999999999:\n",
      "EPOCH 47:\n",
      " batch 100 loss: 0.494465716779232\n",
      " batch 200 loss: 0.48652347341179847\n",
      " batch 300 loss: 0.492978897690773\n",
      " batch 400 loss: 0.497702502310276\n",
      "Train accuracy 83.6:\n",
      "Test accuracy 83.5:\n",
      "EPOCH 48:\n",
      " batch 100 loss: 0.4910977765917778\n",
      " batch 200 loss: 0.48709138423204423\n",
      " batch 300 loss: 0.49315593868494034\n",
      " batch 400 loss: 0.49971812158823015\n",
      "Train accuracy 83.7:\n",
      "Test accuracy 83.5:\n",
      "EPOCH 49:\n",
      " batch 100 loss: 0.4896889454126358\n",
      " batch 200 loss: 0.491098969578743\n",
      " batch 300 loss: 0.48262041330337524\n",
      " batch 400 loss: 0.49914718598127367\n",
      "Train accuracy 83.7:\n",
      "Test accuracy 83.39999999999999:\n",
      "EPOCH 50:\n",
      " batch 100 loss: 0.47272328108549116\n",
      " batch 200 loss: 0.4903911453485489\n",
      " batch 300 loss: 0.5108760187029838\n",
      " batch 400 loss: 0.49334517389535903\n",
      "Train accuracy 83.7:\n",
      "Test accuracy 83.5:\n",
      "EPOCH 51:\n",
      " batch 100 loss: 0.4990421110391617\n",
      " batch 200 loss: 0.490608377456665\n",
      " batch 300 loss: 0.484313186109066\n",
      " batch 400 loss: 0.4909972682595253\n",
      "Train accuracy 83.7:\n",
      "Test accuracy 83.5:\n",
      "EPOCH 52:\n",
      " batch 100 loss: 0.49243404626846315\n",
      " batch 200 loss: 0.48943665832281114\n",
      " batch 300 loss: 0.4876496806740761\n",
      " batch 400 loss: 0.4906540760397911\n",
      "Train accuracy 83.7:\n",
      "Test accuracy 83.6:\n",
      "EPOCH 53:\n",
      " batch 100 loss: 0.48016665756702426\n",
      " batch 200 loss: 0.49598106324672697\n",
      " batch 300 loss: 0.5108580404520034\n",
      " batch 400 loss: 0.48707756265997887\n",
      "Train accuracy 83.7:\n",
      "Test accuracy 83.5:\n",
      "EPOCH 54:\n",
      " batch 100 loss: 0.4850280538201332\n",
      " batch 200 loss: 0.500536547601223\n",
      " batch 300 loss: 0.4925481832027435\n",
      " batch 400 loss: 0.48069925874471664\n",
      "Train accuracy 83.7:\n",
      "Test accuracy 83.5:\n",
      "EPOCH 55:\n",
      " batch 100 loss: 0.47696455150842665\n",
      " batch 200 loss: 0.4932524383068085\n",
      " batch 300 loss: 0.49256285101175307\n",
      " batch 400 loss: 0.4856659242510796\n",
      "Train accuracy 83.7:\n",
      "Test accuracy 83.39999999999999:\n",
      "EPOCH 56:\n",
      " batch 100 loss: 0.47542548447847366\n",
      " batch 200 loss: 0.4965441247820854\n",
      " batch 300 loss: 0.4891095611453056\n",
      " batch 400 loss: 0.48783363282680514\n",
      "Train accuracy 83.7:\n",
      "Test accuracy 83.5:\n",
      "EPOCH 57:\n",
      " batch 100 loss: 0.48181875705718996\n",
      " batch 200 loss: 0.4876298069953918\n",
      " batch 300 loss: 0.48712468981742857\n",
      " batch 400 loss: 0.49640341073274613\n",
      "Train accuracy 83.8:\n",
      "Test accuracy 83.6:\n",
      "EPOCH 58:\n",
      " batch 100 loss: 0.4866143158078194\n",
      " batch 200 loss: 0.46965137869119644\n",
      " batch 300 loss: 0.4870971769094467\n",
      " batch 400 loss: 0.4932700708508492\n",
      "Train accuracy 83.7:\n",
      "Test accuracy 83.6:\n",
      "EPOCH 59:\n",
      " batch 100 loss: 0.4876160487532616\n",
      " batch 200 loss: 0.48458311319351194\n",
      " batch 300 loss: 0.4941267243027687\n",
      " batch 400 loss: 0.4818572875857353\n",
      "Train accuracy 83.8:\n",
      "Test accuracy 83.7:\n",
      "EPOCH 60:\n",
      " batch 100 loss: 0.48697043627500536\n",
      " batch 200 loss: 0.49559485018253324\n",
      " batch 300 loss: 0.48359648644924164\n",
      " batch 400 loss: 0.4895504796504974\n",
      "Train accuracy 83.8:\n",
      "Test accuracy 83.7:\n",
      "EPOCH 61:\n",
      " batch 100 loss: 0.4664879986643791\n",
      " batch 200 loss: 0.4859442976117134\n",
      " batch 300 loss: 0.48138443440198897\n",
      " batch 400 loss: 0.5006381559371949\n",
      "Train accuracy 83.8:\n",
      "Test accuracy 83.6:\n",
      "EPOCH 62:\n",
      " batch 100 loss: 0.48518004432320594\n",
      " batch 200 loss: 0.49647725492715833\n",
      " batch 300 loss: 0.4807688471674919\n",
      " batch 400 loss: 0.48583979949355127\n",
      "Train accuracy 83.8:\n",
      "Test accuracy 83.6:\n",
      "EPOCH 63:\n",
      " batch 100 loss: 0.5001549223065376\n",
      " batch 200 loss: 0.48168489009141924\n",
      " batch 300 loss: 0.48414440244436263\n",
      " batch 400 loss: 0.47922794669866564\n",
      "Train accuracy 83.8:\n",
      "Test accuracy 83.7:\n",
      "EPOCH 64:\n",
      " batch 100 loss: 0.4852986180782318\n",
      " batch 200 loss: 0.4782087358832359\n",
      " batch 300 loss: 0.4945842486619949\n",
      " batch 400 loss: 0.4831049317121506\n",
      "Train accuracy 83.89999999999999:\n",
      "Test accuracy 83.6:\n",
      "EPOCH 65:\n",
      " batch 100 loss: 0.47685420781373977\n",
      " batch 200 loss: 0.48580253958702085\n",
      " batch 300 loss: 0.4915480253100395\n",
      " batch 400 loss: 0.4818818688392639\n",
      "Train accuracy 83.8:\n",
      "Test accuracy 83.6:\n",
      "EPOCH 66:\n",
      " batch 100 loss: 0.483005108833313\n",
      " batch 200 loss: 0.482284175157547\n",
      " batch 300 loss: 0.4901129969954491\n",
      " batch 400 loss: 0.4871528849005699\n",
      "Train accuracy 83.8:\n",
      "Test accuracy 83.7:\n",
      "EPOCH 67:\n",
      " batch 100 loss: 0.4806899181008339\n",
      " batch 200 loss: 0.4911508604884148\n",
      " batch 300 loss: 0.4802249124646187\n",
      " batch 400 loss: 0.4777711680531502\n",
      "Train accuracy 83.8:\n",
      "Test accuracy 83.6:\n",
      "EPOCH 68:\n",
      " batch 100 loss: 0.47349942147731783\n",
      " batch 200 loss: 0.48243080675601957\n",
      " batch 300 loss: 0.4902477321028709\n",
      " batch 400 loss: 0.49267288446426394\n",
      "Train accuracy 83.89999999999999:\n",
      "Test accuracy 83.7:\n",
      "EPOCH 69:\n",
      " batch 100 loss: 0.4827570644021034\n",
      " batch 200 loss: 0.47207086235284806\n",
      " batch 300 loss: 0.5006457099318504\n",
      " batch 400 loss: 0.4844858241081238\n",
      "Train accuracy 83.89999999999999:\n",
      "Test accuracy 83.7:\n",
      "EPOCH 70:\n",
      " batch 100 loss: 0.5014843446016312\n",
      " batch 200 loss: 0.4716576537489891\n",
      " batch 300 loss: 0.47401088356971743\n",
      " batch 400 loss: 0.49095645993947984\n",
      "Train accuracy 83.8:\n",
      "Test accuracy 83.7:\n",
      "EPOCH 71:\n",
      " batch 100 loss: 0.4879263681173325\n",
      " batch 200 loss: 0.47708402693271634\n",
      " batch 300 loss: 0.4872284534573555\n",
      " batch 400 loss: 0.47983713656663896\n",
      "Train accuracy 83.89999999999999:\n",
      "Test accuracy 83.7:\n",
      "EPOCH 72:\n",
      " batch 100 loss: 0.4866987466812134\n",
      " batch 200 loss: 0.47986446529626847\n",
      " batch 300 loss: 0.4946281638741493\n",
      " batch 400 loss: 0.4826188373565674\n",
      "Train accuracy 83.89999999999999:\n",
      "Test accuracy 83.6:\n",
      "EPOCH 73:\n",
      " batch 100 loss: 0.4785755428671837\n",
      " batch 200 loss: 0.4922018150985241\n",
      " batch 300 loss: 0.48188197866082194\n",
      " batch 400 loss: 0.47423224031925204\n",
      "Train accuracy 83.89999999999999:\n",
      "Test accuracy 83.7:\n",
      "EPOCH 74:\n",
      " batch 100 loss: 0.47008723229169846\n",
      " batch 200 loss: 0.4913784494996071\n",
      " batch 300 loss: 0.48161947399377825\n",
      " batch 400 loss: 0.47830550268292427\n",
      "Train accuracy 83.8:\n",
      "Test accuracy 83.6:\n",
      "EPOCH 75:\n",
      " batch 100 loss: 0.46577810898423194\n",
      " batch 200 loss: 0.4886100581288338\n",
      " batch 300 loss: 0.4827203461527824\n",
      " batch 400 loss: 0.4892248809337616\n",
      "Train accuracy 83.89999999999999:\n",
      "Test accuracy 83.6:\n",
      "EPOCH 76:\n",
      " batch 100 loss: 0.4717110136151314\n",
      " batch 200 loss: 0.48848331928253175\n",
      " batch 300 loss: 0.4861738404631615\n",
      " batch 400 loss: 0.48976943582296373\n",
      "Train accuracy 84.0:\n",
      "Test accuracy 83.7:\n",
      "EPOCH 77:\n",
      " batch 100 loss: 0.4670076335966587\n",
      " batch 200 loss: 0.4832340466976166\n",
      " batch 300 loss: 0.48822465896606443\n",
      " batch 400 loss: 0.48347042709589005\n",
      "Train accuracy 84.0:\n",
      "Test accuracy 83.7:\n",
      "EPOCH 78:\n",
      " batch 100 loss: 0.49379465758800506\n",
      " batch 200 loss: 0.47631041646003724\n",
      " batch 300 loss: 0.4658014851808548\n",
      " batch 400 loss: 0.48107517063617705\n",
      "Train accuracy 83.89999999999999:\n",
      "Test accuracy 83.7:\n",
      "EPOCH 79:\n",
      " batch 100 loss: 0.48598824232816695\n",
      " batch 200 loss: 0.4764715468883514\n",
      " batch 300 loss: 0.4891256275773048\n",
      " batch 400 loss: 0.47733166605234145\n",
      "Train accuracy 83.89999999999999:\n",
      "Test accuracy 83.6:\n",
      "EPOCH 80:\n",
      " batch 100 loss: 0.47110486775636673\n",
      " batch 200 loss: 0.48925614327192307\n",
      " batch 300 loss: 0.4822738370299339\n",
      " batch 400 loss: 0.4901058903336525\n",
      "Train accuracy 84.0:\n",
      "Test accuracy 83.7:\n",
      "EPOCH 81:\n",
      " batch 100 loss: 0.47454753041267395\n",
      " batch 200 loss: 0.486775386929512\n",
      " batch 300 loss: 0.485846765935421\n",
      " batch 400 loss: 0.47351888597011565\n",
      "Train accuracy 84.0:\n",
      "Test accuracy 83.89999999999999:\n",
      "EPOCH 82:\n",
      " batch 100 loss: 0.4780918517708778\n",
      " batch 200 loss: 0.4716328462958336\n",
      " batch 300 loss: 0.48477579951286315\n",
      " batch 400 loss: 0.49126906335353854\n",
      "Train accuracy 83.89999999999999:\n",
      "Test accuracy 83.8:\n",
      "EPOCH 83:\n",
      " batch 100 loss: 0.4613808053731918\n",
      " batch 200 loss: 0.5010516309738159\n",
      " batch 300 loss: 0.4733909726142883\n",
      " batch 400 loss: 0.4707162241637707\n",
      "Train accuracy 84.0:\n",
      "Test accuracy 83.8:\n",
      "EPOCH 84:\n",
      " batch 100 loss: 0.4827863767743111\n",
      " batch 200 loss: 0.48914083689451215\n",
      " batch 300 loss: 0.4745632228255272\n",
      " batch 400 loss: 0.4754734128713608\n",
      "Train accuracy 84.0:\n",
      "Test accuracy 83.8:\n",
      "EPOCH 85:\n",
      " batch 100 loss: 0.47185311898589133\n",
      " batch 200 loss: 0.46854410141706465\n",
      " batch 300 loss: 0.4825886404514313\n",
      " batch 400 loss: 0.4839465719461441\n",
      "Train accuracy 84.0:\n",
      "Test accuracy 83.8:\n",
      "EPOCH 86:\n",
      " batch 100 loss: 0.478760953694582\n",
      " batch 200 loss: 0.46641716569662095\n",
      " batch 300 loss: 0.4834489545226097\n",
      " batch 400 loss: 0.4859135362505913\n",
      "Train accuracy 84.0:\n",
      "Test accuracy 83.8:\n",
      "EPOCH 87:\n",
      " batch 100 loss: 0.460958169400692\n",
      " batch 200 loss: 0.47912153661251067\n",
      " batch 300 loss: 0.4807516431808472\n",
      " batch 400 loss: 0.487148260474205\n",
      "Train accuracy 84.0:\n",
      "Test accuracy 83.8:\n",
      "EPOCH 88:\n",
      " batch 100 loss: 0.4868554422259331\n",
      " batch 200 loss: 0.4614725235104561\n",
      " batch 300 loss: 0.4777649712562561\n",
      " batch 400 loss: 0.4835334035754204\n",
      "Train accuracy 84.0:\n",
      "Test accuracy 83.7:\n",
      "EPOCH 89:\n",
      " batch 100 loss: 0.48727830201387407\n",
      " batch 200 loss: 0.460070081204176\n",
      " batch 300 loss: 0.4809549747407436\n",
      " batch 400 loss: 0.4720277801156044\n",
      "Train accuracy 84.0:\n",
      "Test accuracy 83.8:\n",
      "EPOCH 90:\n",
      " batch 100 loss: 0.4763338428735733\n",
      " batch 200 loss: 0.48516942605376245\n",
      " batch 300 loss: 0.47279997169971466\n",
      " batch 400 loss: 0.47076533138751986\n",
      "Train accuracy 84.0:\n",
      "Test accuracy 83.7:\n",
      "EPOCH 91:\n",
      " batch 100 loss: 0.4921696135401726\n",
      " batch 200 loss: 0.47974549144506456\n",
      " batch 300 loss: 0.4772161766886711\n",
      " batch 400 loss: 0.4622607506811619\n",
      "Train accuracy 84.0:\n",
      "Test accuracy 83.8:\n",
      "EPOCH 92:\n",
      " batch 100 loss: 0.4812862879037857\n",
      " batch 200 loss: 0.4687777511775494\n",
      " batch 300 loss: 0.47565433859825135\n",
      " batch 400 loss: 0.4786388421058655\n",
      "Train accuracy 84.0:\n",
      "Test accuracy 83.7:\n",
      "EPOCH 93:\n",
      " batch 100 loss: 0.4895484244823456\n",
      " batch 200 loss: 0.476924889087677\n",
      " batch 300 loss: 0.4754690712690353\n",
      " batch 400 loss: 0.48419681310653684\n",
      "Train accuracy 84.0:\n",
      "Test accuracy 83.8:\n",
      "EPOCH 94:\n",
      " batch 100 loss: 0.48901404917240143\n",
      " batch 200 loss: 0.4741832157969475\n",
      " batch 300 loss: 0.4783274757862091\n",
      " batch 400 loss: 0.46698506236076354\n",
      "Train accuracy 83.89999999999999:\n",
      "Test accuracy 83.8:\n",
      "EPOCH 95:\n",
      " batch 100 loss: 0.4808915388584137\n",
      " batch 200 loss: 0.45986178010702133\n",
      " batch 300 loss: 0.475404354929924\n",
      " batch 400 loss: 0.4818293264508247\n",
      "Train accuracy 84.0:\n",
      "Test accuracy 83.8:\n",
      "EPOCH 96:\n",
      " batch 100 loss: 0.4725887531042099\n",
      " batch 200 loss: 0.48014349237084386\n",
      " batch 300 loss: 0.47269154161214827\n",
      " batch 400 loss: 0.4748635855317116\n",
      "Train accuracy 84.0:\n",
      "Test accuracy 83.89999999999999:\n",
      "EPOCH 97:\n",
      " batch 100 loss: 0.46465099185705183\n",
      " batch 200 loss: 0.4699345695972443\n",
      " batch 300 loss: 0.5006089276075363\n",
      " batch 400 loss: 0.47702218770980837\n",
      "Train accuracy 84.0:\n",
      "Test accuracy 83.8:\n",
      "EPOCH 98:\n",
      " batch 100 loss: 0.47139072060585024\n",
      " batch 200 loss: 0.4759845760464668\n",
      " batch 300 loss: 0.47153847619891165\n",
      " batch 400 loss: 0.49195014089345934\n",
      "Train accuracy 84.1:\n",
      "Test accuracy 83.8:\n",
      "EPOCH 99:\n",
      " batch 100 loss: 0.47603473007678987\n",
      " batch 200 loss: 0.47824599146842955\n",
      " batch 300 loss: 0.47863659709692\n",
      " batch 400 loss: 0.4676826974749565\n",
      "Train accuracy 84.0:\n",
      "Test accuracy 83.7:\n",
      "EPOCH 100:\n",
      " batch 100 loss: 0.46811074078083037\n",
      " batch 200 loss: 0.49392032355070115\n",
      " batch 300 loss: 0.4726956182718277\n",
      " batch 400 loss: 0.46853275775909425\n",
      "Train accuracy 84.0:\n",
      "Test accuracy 83.8:\n"
     ]
    }
   ],
   "source": [
    "epoch_number = 0\n",
    "\n",
    "losses = []\n",
    "train_accuracy = []\n",
    "test_accuracy = []\n",
    "\n",
    "for epoch in range(num_epochs):\n",
    "    print('EPOCH {}:'.format(epoch_number + 1))\n",
    "\n",
    "    # Make sure gradient tracking is on, and do a pass over the data\n",
    "    net.train(True)\n",
    "    avg_loss = train_one_epoch(epoch_number)\n",
    "    losses.append(avg_loss)\n",
    "\n",
    "    # Train accuracy\n",
    "    train_acc = test(net, train_loader)\n",
    "    train_accuracy.append(train_acc)\n",
    "\n",
    "    # Test accuracy\n",
    "    test_acc = test(net, test_loader)\n",
    "    test_accuracy.append(test_acc)\n",
    "\n",
    "    print('Train accuracy {}:'.format(train_acc))\n",
    "    print('Test accuracy {}:'.format(test_acc))\n",
    "\n",
    "    epoch_number += 1"
   ]
  },
  {
   "cell_type": "markdown",
   "metadata": {
    "id": "CTcpDV4IV1zs"
   },
   "source": [
    "### Plotting"
   ]
  },
  {
   "cell_type": "code",
   "execution_count": 15,
   "metadata": {
    "executionInfo": {
     "elapsed": 30,
     "status": "ok",
     "timestamp": 1695160932981,
     "user": {
      "displayName": "Etiksha Jain",
      "userId": "14034236754514632156"
     },
     "user_tz": -330
    },
    "id": "VHCVdQEfp_Ok"
   },
   "outputs": [
    {
     "name": "stdout",
     "output_type": "stream",
     "text": [
      "Requirement already satisfied: numpy in /Library/Frameworks/Python.framework/Versions/3.11/lib/python3.11/site-packages (1.24.3)\n"
     ]
    }
   ],
   "source": [
    "!pip3 install numpy\n",
    "import numpy as np\n",
    "epochs_arr = np.arange(0, len(losses))"
   ]
  },
  {
   "cell_type": "code",
   "execution_count": 16,
   "metadata": {
    "colab": {
     "base_uri": "https://localhost:8080/",
     "height": 510
    },
    "executionInfo": {
     "elapsed": 12,
     "status": "ok",
     "timestamp": 1695160932981,
     "user": {
      "displayName": "Etiksha Jain",
      "userId": "14034236754514632156"
     },
     "user_tz": -330
    },
    "id": "wXEegDFVppvI",
    "outputId": "36319e49-e2b6-4e88-ebf9-4780f73a0215"
   },
   "outputs": [
    {
     "name": "stderr",
     "output_type": "stream",
     "text": [
      "No artists with labels found to put in legend.  Note that artists whose label start with an underscore are ignored when legend() is called with no argument.\n"
     ]
    },
    {
     "data": {
      "image/png": "[encoded data removed]",
      "text/plain": [
       "<Figure size 640x480 with 1 Axes>"
      ]
     },
     "metadata": {},
     "output_type": "display_data"
    }
   ],
   "source": [
    "# Plot training loss\n",
    "xpoints = np.array(epochs_arr)\n",
    "ypoints = np.array(losses)\n",
    "\n",
    "plt.plot(xpoints, ypoints)\n",
    "plt.xlabel(\"Epochs\")\n",
    "plt.ylabel(\"train Loss\")\n",
    "plt.legend()\n",
    "plt.title('Training Loss without Hyperparameter tuning')\n",
    "plt.show()"
   ]
  },
  {
   "cell_type": "code",
   "execution_count": 17,
   "metadata": {
    "colab": {
     "base_uri": "https://localhost:8080/",
     "height": 510
    },
    "executionInfo": {
     "elapsed": 8,
     "status": "ok",
     "timestamp": 1695160932981,
     "user": {
      "displayName": "Etiksha Jain",
      "userId": "14034236754514632156"
     },
     "user_tz": -330
    },
    "id": "u6es2tlnprwR",
    "outputId": "42030e6d-ef9c-4306-ce5b-41f020e067c9"
   },
   "outputs": [
    {
     "name": "stderr",
     "output_type": "stream",
     "text": [
      "No artists with labels found to put in legend.  Note that artists whose label start with an underscore are ignored when legend() is called with no argument.\n"
     ]
    },
    {
     "data": {
      "image/png": "[encoded data removed]",
      "text/plain": [
       "<Figure size 640x480 with 1 Axes>"
      ]
     },
     "metadata": {},
     "output_type": "display_data"
    }
   ],
   "source": [
    "# Plot training accuracy\n",
    "xpoints = np.array(epochs_arr)\n",
    "ypoints = np.array(train_accuracy)\n",
    "\n",
    "plt.plot(xpoints, ypoints)\n",
    "plt.xlabel(\"Epochs\")\n",
    "plt.ylabel(\"train accuracy\")\n",
    "plt.legend()\n",
    "plt.title('Training Accuracy without Hyperparameter tuning')\n",
    "plt.show()"
   ]
  },
  {
   "cell_type": "code",
   "execution_count": 18,
   "metadata": {
    "colab": {
     "base_uri": "https://localhost:8080/",
     "height": 510
    },
    "executionInfo": {
     "elapsed": 1338,
     "status": "ok",
     "timestamp": 1695160934313,
     "user": {
      "displayName": "Etiksha Jain",
      "userId": "14034236754514632156"
     },
     "user_tz": -330
    },
    "id": "MMzk9B3_ptZu",
    "outputId": "04c7eea1-ca0d-4200-b1d4-5746133835a4"
   },
   "outputs": [
    {
     "name": "stderr",
     "output_type": "stream",
     "text": [
      "No artists with labels found to put in legend.  Note that artists whose label start with an underscore are ignored when legend() is called with no argument.\n"
     ]
    },
    {
     "data": {
      "image/png": "[encoded data removed]",
      "text/plain": [
       "<Figure size 640x480 with 1 Axes>"
      ]
     },
     "metadata": {},
     "output_type": "display_data"
    }
   ],
   "source": [
    "# Plot test accuracy\n",
    "xpoints = np.array(epochs_arr)\n",
    "ypoints = np.array(test_accuracy)\n",
    "\n",
    "plt.plot(xpoints, ypoints)\n",
    "plt.xlabel(\"Epochs\")\n",
    "plt.ylabel(\"test accuracy\")\n",
    "plt.legend()\n",
    "plt.title('Test Accuracy without Hyperparameter tuning')\n",
    "plt.show()"
   ]
  },
  {
   "cell_type": "code",
   "execution_count": 19,
   "metadata": {
    "colab": {
     "base_uri": "https://localhost:8080/",
     "height": 472
    },
    "executionInfo": {
     "elapsed": 5,
     "status": "ok",
     "timestamp": 1695160934313,
     "user": {
      "displayName": "Etiksha Jain",
      "userId": "14034236754514632156"
     },
     "user_tz": -330
    },
    "id": "6rYgQkuwbKm1",
    "outputId": "46f1c752-98f9-4ecd-b150-fdf267c9f969"
   },
   "outputs": [
    {
     "data": {
      "image/png": "[encoded data removed]",
      "text/plain": [
       "<Figure size 640x480 with 1 Axes>"
      ]
     },
     "metadata": {},
     "output_type": "display_data"
    }
   ],
   "source": [
    "# Plot accuracy\n",
    "xpoints = np.array(epochs_arr)\n",
    "ypoints_test = np.array(test_accuracy)\n",
    "ypoints_train = np.array(train_accuracy)\n",
    "plt.plot(xpoints, ypoints_test, label='Test')\n",
    "plt.plot(xpoints, ypoints_train, label='Train')\n",
    "plt.xlabel(\"Epochs\")\n",
    "plt.ylabel(\"Accuracy\")\n",
    "plt.legend()\n",
    "plt.title('Test/Train Accuracy without Hyperparameter tuning')\n",
    "plt.show()"
   ]
  },
  {
   "cell_type": "markdown",
   "metadata": {
    "id": "h5mlbnJMVjG3"
   },
   "source": [
    "### Save model"
   ]
  },
  {
   "cell_type": "code",
   "execution_count": 20,
   "metadata": {
    "colab": {
     "base_uri": "https://localhost:8080/"
    },
    "executionInfo": {
     "elapsed": 3092,
     "status": "ok",
     "timestamp": 1695160937401,
     "user": {
      "displayName": "Etiksha Jain",
      "userId": "14034236754514632156"
     },
     "user_tz": -330
    },
    "id": "7PRZ-0x3rnAY",
    "outputId": "8e5abf95-cd52-41b6-93a0-69547a4c962c"
   },
   "outputs": [
    {
     "name": "stdout",
     "output_type": "stream",
     "text": [
      "Requirement already satisfied: datetime in /Library/Frameworks/Python.framework/Versions/3.11/lib/python3.11/site-packages (5.2)\n",
      "Requirement already satisfied: zope.interface in /Library/Frameworks/Python.framework/Versions/3.11/lib/python3.11/site-packages (from datetime) (6.0)\n",
      "Requirement already satisfied: pytz in /Library/Frameworks/Python.framework/Versions/3.11/lib/python3.11/site-packages (from datetime) (2023.3.post1)\n",
      "Requirement already satisfied: setuptools in /Library/Frameworks/Python.framework/Versions/3.11/lib/python3.11/site-packages (from zope.interface->datetime) (65.5.0)\n"
     ]
    }
   ],
   "source": [
    "!pip3 install datetime\n",
    "import datetime as dt\n",
    "ts_now = dt.datetime.now()\n",
    "unix_timestamp = dt.datetime.timestamp(ts_now)*1000\n",
    "model_save_name = str(unix_timestamp)\n",
    "path = F\"{model_save_name}_bs{batch_size}_e{num_epochs}_{opti}_LR=0.01_mnist.pt\"\n",
    "t.save(net.state_dict(), path)"
   ]
  },
  {
   "cell_type": "markdown",
   "metadata": {
    "id": "eB38SwpjVkx3"
   },
   "source": [
    "### Load model"
   ]
  },
  {
   "cell_type": "code",
   "execution_count": 40,
   "metadata": {
    "id": "34bzbZtggYsa"
   },
   "outputs": [
    {
     "data": {
      "text/plain": [
       "<All keys matched successfully>"
      ]
     },
     "execution_count": 40,
     "metadata": {},
     "output_type": "execute_result"
    }
   ],
   "source": [
    "model_save_name = '1695323956202.056_bs128_e200_SGD_LR=0.01_cifar.pt'\n",
    "path = F\"{model_save_name}\"\n",
    "net.load_state_dict(t.load(path))"
   ]
  },
  {
   "cell_type": "code",
   "execution_count": 41,
   "metadata": {
    "id": "qT-_48gpVXe9"
   },
   "outputs": [
    {
     "data": {
      "text/plain": [
       "40.5"
      ]
     },
     "execution_count": 41,
     "metadata": {},
     "output_type": "execute_result"
    }
   ],
   "source": [
    "test(net,test_loader)"
   ]
  },
  {
   "cell_type": "code",
   "execution_count": null,
   "metadata": {
    "id": "KJWBQrSQVfay"
   },
   "outputs": [],
   "source": []
  }
 ],
 "metadata": {
  "accelerator": "GPU",
  "colab": {
   "authorship_tag": "ABX9TyPPxtytbiyMzhYxVwfqh+OH",
   "gpuType": "T4",
   "provenance": [
    {
     "file_id": "15Lmix6u1_Upz2o1ZaphkmkuAmx1gQHy-",
     "timestamp": 1695158022239
    },
    {
     "file_id": "1-6ojp9bMjhfGw9ZcZRZlG8CKheYw_toh",
     "timestamp": 1694894618382
    }
   ]
  },
  "kernelspec": {
   "display_name": "Python 3 (ipykernel)",
   "language": "python",
   "name": "python3"
  },
  "language_info": {
   "codemirror_mode": {
    "name": "ipython",
    "version": 3
   },
   "file_extension": ".py",
   "mimetype": "text/x-python",
   "name": "python",
   "nbconvert_exporter": "python",
   "pygments_lexer": "ipython3",
   "version": "3.11.5"
  }
 },
 "nbformat": 4,
 "nbformat_minor": 4
}
